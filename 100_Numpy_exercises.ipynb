{
 "cells": [
  {
   "cell_type": "markdown",
   "id": "6293cc50",
   "metadata": {},
   "source": [
    "# 100 numpy exercises\n",
    "\n",
    "This is a collection of exercises that have been collected in the numpy mailing list, on stack overflow\n",
    "and in the numpy documentation. The goal of this collection is to offer a quick reference for both old\n",
    "and new users but also to provide a set of exercises for those who teach.\n",
    "\n",
    "\n",
    "If you find an error or think you've a better way to solve some of them, feel\n",
    "free to open an issue at <https://github.com/rougier/numpy-100>."
   ]
  },
  {
   "cell_type": "markdown",
   "id": "a167c052",
   "metadata": {},
   "source": [
    "File automatically generated. See the documentation to update questions/answers/hints programmatically."
   ]
  },
  {
   "cell_type": "markdown",
   "id": "57fc0ee5",
   "metadata": {},
   "source": [
    "Run the `initialize.py` module, then for each question you can query the\n",
    "answer or an hint with `hint(n)` or `answer(n)` for `n` question number."
   ]
  },
  {
   "cell_type": "code",
   "execution_count": 1,
   "id": "3d46fba2",
   "metadata": {
    "ExecuteTime": {
     "end_time": "2024-09-17T06:09:57.312012Z",
     "start_time": "2024-09-17T06:09:57.109004Z"
    }
   },
   "outputs": [],
   "source": [
    "from initialise import answer\n",
    "%run initialise.py"
   ]
  },
  {
   "cell_type": "markdown",
   "id": "3c1222ff",
   "metadata": {},
   "source": [
    "#### 1. Import the numpy package under the name `np` (★☆☆)"
   ]
  },
  {
   "cell_type": "code",
   "execution_count": 2,
   "id": "f52e6a0b",
   "metadata": {
    "ExecuteTime": {
     "end_time": "2024-09-17T06:09:57.323552Z",
     "start_time": "2024-09-17T06:09:57.321141Z"
    }
   },
   "outputs": [],
   "source": [
    "import numpy as np"
   ]
  },
  {
   "cell_type": "markdown",
   "id": "9d9f4753",
   "metadata": {},
   "source": [
    "#### 2. Print the numpy version and the configuration (★☆☆)"
   ]
  },
  {
   "cell_type": "code",
   "execution_count": 3,
   "id": "b7fa5fa1",
   "metadata": {
    "ExecuteTime": {
     "end_time": "2024-09-17T06:09:57.456971Z",
     "start_time": "2024-09-17T06:09:57.445098Z"
    }
   },
   "outputs": [
    {
     "name": "stdout",
     "output_type": "stream",
     "text": [
      "2.1.1\n",
      "Build Dependencies:\n",
      "  blas:\n",
      "    detection method: pkgconfig\n",
      "    found: true\n",
      "    include directory: /opt/_internal/cpython-3.11.9/lib/python3.11/site-packages/scipy_openblas64/include\n",
      "    lib directory: /opt/_internal/cpython-3.11.9/lib/python3.11/site-packages/scipy_openblas64/lib\n",
      "    name: scipy-openblas\n",
      "    openblas configuration: OpenBLAS 0.3.27  USE64BITINT DYNAMIC_ARCH NO_AFFINITY\n",
      "      Haswell MAX_THREADS=64\n",
      "    pc file directory: /project/.openblas\n",
      "    version: 0.3.27\n",
      "  lapack:\n",
      "    detection method: pkgconfig\n",
      "    found: true\n",
      "    include directory: /opt/_internal/cpython-3.11.9/lib/python3.11/site-packages/scipy_openblas64/include\n",
      "    lib directory: /opt/_internal/cpython-3.11.9/lib/python3.11/site-packages/scipy_openblas64/lib\n",
      "    name: scipy-openblas\n",
      "    openblas configuration: OpenBLAS 0.3.27  USE64BITINT DYNAMIC_ARCH NO_AFFINITY\n",
      "      Haswell MAX_THREADS=64\n",
      "    pc file directory: /project/.openblas\n",
      "    version: 0.3.27\n",
      "Compilers:\n",
      "  c:\n",
      "    commands: cc\n",
      "    linker: ld.bfd\n",
      "    name: gcc\n",
      "    version: 10.2.1\n",
      "  c++:\n",
      "    commands: c++\n",
      "    linker: ld.bfd\n",
      "    name: gcc\n",
      "    version: 10.2.1\n",
      "  cython:\n",
      "    commands: cython\n",
      "    linker: cython\n",
      "    name: cython\n",
      "    version: 3.0.11\n",
      "Machine Information:\n",
      "  build:\n",
      "    cpu: x86_64\n",
      "    endian: little\n",
      "    family: x86_64\n",
      "    system: linux\n",
      "  host:\n",
      "    cpu: x86_64\n",
      "    endian: little\n",
      "    family: x86_64\n",
      "    system: linux\n",
      "Python Information:\n",
      "  path: /tmp/build-env-9fu1yo6p/bin/python\n",
      "  version: '3.11'\n",
      "SIMD Extensions:\n",
      "  baseline:\n",
      "  - SSE\n",
      "  - SSE2\n",
      "  - SSE3\n",
      "  found:\n",
      "  - SSSE3\n",
      "  - SSE41\n",
      "  - POPCNT\n",
      "  - SSE42\n",
      "  - AVX\n",
      "  - F16C\n",
      "  - FMA3\n",
      "  - AVX2\n",
      "  not found:\n",
      "  - AVX512F\n",
      "  - AVX512CD\n",
      "  - AVX512_KNL\n",
      "  - AVX512_KNM\n",
      "  - AVX512_SKX\n",
      "  - AVX512_CLX\n",
      "  - AVX512_CNL\n",
      "  - AVX512_ICL\n",
      "\n"
     ]
    }
   ],
   "source": [
    "print(np.__version__)\n",
    "np.__config__.show()"
   ]
  },
  {
   "cell_type": "markdown",
   "id": "3e4c23c6",
   "metadata": {},
   "source": [
    "#### 3. Create a null vector of size 10 (★☆☆)"
   ]
  },
  {
   "cell_type": "code",
   "execution_count": 4,
   "id": "083c5c46",
   "metadata": {
    "ExecuteTime": {
     "end_time": "2024-09-17T06:09:57.617577Z",
     "start_time": "2024-09-17T06:09:57.614562Z"
    }
   },
   "outputs": [
    {
     "name": "stdout",
     "output_type": "stream",
     "text": [
      "[0. 0. 0. 0. 0. 0. 0. 0. 0. 0.]\n"
     ]
    }
   ],
   "source": [
    "Z = np.zeros(10)\n",
    "print(Z)"
   ]
  },
  {
   "cell_type": "markdown",
   "id": "c38bbe82",
   "metadata": {},
   "source": [
    "#### 4. How to find the memory size of any array (★☆☆)"
   ]
  },
  {
   "cell_type": "code",
   "execution_count": 5,
   "id": "02b04021",
   "metadata": {
    "ExecuteTime": {
     "end_time": "2024-09-17T06:09:57.851824Z",
     "start_time": "2024-09-17T06:09:57.849203Z"
    }
   },
   "outputs": [
    {
     "name": "stdout",
     "output_type": "stream",
     "text": [
      "192\n",
      "80 bytes\n"
     ]
    }
   ],
   "source": [
    "from sys import getsizeof\n",
    "print(getsizeof(Z))\n",
    "print(\"%d bytes\" % (Z.size * Z.itemsize))\n"
   ]
  },
  {
   "cell_type": "code",
   "execution_count": 6,
   "id": "4dadf0f269f00a6f",
   "metadata": {
    "ExecuteTime": {
     "end_time": "2024-09-17T06:09:58.195826Z",
     "start_time": "2024-09-17T06:09:58.193006Z"
    }
   },
   "outputs": [
    {
     "name": "stdout",
     "output_type": "stream",
     "text": [
      "Z = np.zeros((10,10))\n",
      "print(\"%d bytes\" % (Z.size * Z.itemsize))\n"
     ]
    }
   ],
   "source": [
    "answer(4)"
   ]
  },
  {
   "cell_type": "markdown",
   "id": "67f893d4",
   "metadata": {},
   "source": [
    "#### 5. How to get the documentation of the numpy add function from the command line? (★☆☆)"
   ]
  },
  {
   "cell_type": "code",
   "execution_count": 7,
   "id": "40e6b70d",
   "metadata": {
    "ExecuteTime": {
     "end_time": "2024-09-17T06:09:58.409702Z",
     "start_time": "2024-09-17T06:09:58.405844Z"
    }
   },
   "outputs": [
    {
     "name": "stdout",
     "output_type": "stream",
     "text": [
      "Help on built-in function array in module numpy:\n",
      "\n",
      "array(...)\n",
      "    array(object, dtype=None, *, copy=True, order='K', subok=False, ndmin=0,\n",
      "          like=None)\n",
      "    \n",
      "    Create an array.\n",
      "    \n",
      "    Parameters\n",
      "    ----------\n",
      "    object : array_like\n",
      "        An array, any object exposing the array interface, an object whose\n",
      "        ``__array__`` method returns an array, or any (nested) sequence.\n",
      "        If object is a scalar, a 0-dimensional array containing object is\n",
      "        returned.\n",
      "    dtype : data-type, optional\n",
      "        The desired data-type for the array. If not given, NumPy will try to use\n",
      "        a default ``dtype`` that can represent the values (by applying promotion\n",
      "        rules when necessary.)\n",
      "    copy : bool, optional\n",
      "        If ``True`` (default), then the array data is copied. If ``None``,\n",
      "        a copy will only be made if ``__array__`` returns a copy, if obj is\n",
      "        a nested sequence, or if a copy is needed to satisfy any of the other\n",
      "        requirements (``dtype``, ``order``, etc.). Note that any copy of\n",
      "        the data is shallow, i.e., for arrays with object dtype, the new\n",
      "        array will point to the same objects. See Examples for `ndarray.copy`.\n",
      "        For ``False`` it raises a ``ValueError`` if a copy cannot be avoided.\n",
      "        Default: ``True``.\n",
      "    order : {'K', 'A', 'C', 'F'}, optional\n",
      "        Specify the memory layout of the array. If object is not an array, the\n",
      "        newly created array will be in C order (row major) unless 'F' is\n",
      "        specified, in which case it will be in Fortran order (column major).\n",
      "        If object is an array the following holds.\n",
      "    \n",
      "        ===== ========= ===================================================\n",
      "        order  no copy                     copy=True\n",
      "        ===== ========= ===================================================\n",
      "        'K'   unchanged F & C order preserved, otherwise most similar order\n",
      "        'A'   unchanged F order if input is F and not C, otherwise C order\n",
      "        'C'   C order   C order\n",
      "        'F'   F order   F order\n",
      "        ===== ========= ===================================================\n",
      "    \n",
      "        When ``copy=None`` and a copy is made for other reasons, the result is\n",
      "        the same as if ``copy=True``, with some exceptions for 'A', see the\n",
      "        Notes section. The default order is 'K'.\n",
      "    subok : bool, optional\n",
      "        If True, then sub-classes will be passed-through, otherwise\n",
      "        the returned array will be forced to be a base-class array (default).\n",
      "    ndmin : int, optional\n",
      "        Specifies the minimum number of dimensions that the resulting\n",
      "        array should have.  Ones will be prepended to the shape as\n",
      "        needed to meet this requirement.\n",
      "    like : array_like, optional\n",
      "        Reference object to allow the creation of arrays which are not\n",
      "        NumPy arrays. If an array-like passed in as ``like`` supports\n",
      "        the ``__array_function__`` protocol, the result will be defined\n",
      "        by it. In this case, it ensures the creation of an array object\n",
      "        compatible with that passed in via this argument.\n",
      "    \n",
      "        .. versionadded:: 1.20.0\n",
      "    \n",
      "    Returns\n",
      "    -------\n",
      "    out : ndarray\n",
      "        An array object satisfying the specified requirements.\n",
      "    \n",
      "    See Also\n",
      "    --------\n",
      "    empty_like : Return an empty array with shape and type of input.\n",
      "    ones_like : Return an array of ones with shape and type of input.\n",
      "    zeros_like : Return an array of zeros with shape and type of input.\n",
      "    full_like : Return a new array with shape of input filled with value.\n",
      "    empty : Return a new uninitialized array.\n",
      "    ones : Return a new array setting values to one.\n",
      "    zeros : Return a new array setting values to zero.\n",
      "    full : Return a new array of given shape filled with value.\n",
      "    copy: Return an array copy of the given object.\n",
      "    \n",
      "    \n",
      "    Notes\n",
      "    -----\n",
      "    When order is 'A' and ``object`` is an array in neither 'C' nor 'F' order,\n",
      "    and a copy is forced by a change in dtype, then the order of the result is\n",
      "    not necessarily 'C' as expected. This is likely a bug.\n",
      "    \n",
      "    Examples\n",
      "    --------\n",
      "    >>> import numpy as np\n",
      "    >>> np.array([1, 2, 3])\n",
      "    array([1, 2, 3])\n",
      "    \n",
      "    Upcasting:\n",
      "    \n",
      "    >>> np.array([1, 2, 3.0])\n",
      "    array([ 1.,  2.,  3.])\n",
      "    \n",
      "    More than one dimension:\n",
      "    \n",
      "    >>> np.array([[1, 2], [3, 4]])\n",
      "    array([[1, 2],\n",
      "           [3, 4]])\n",
      "    \n",
      "    Minimum dimensions 2:\n",
      "    \n",
      "    >>> np.array([1, 2, 3], ndmin=2)\n",
      "    array([[1, 2, 3]])\n",
      "    \n",
      "    Type provided:\n",
      "    \n",
      "    >>> np.array([1, 2, 3], dtype=complex)\n",
      "    array([ 1.+0.j,  2.+0.j,  3.+0.j])\n",
      "    \n",
      "    Data-type consisting of more than one element:\n",
      "    \n",
      "    >>> x = np.array([(1,2),(3,4)],dtype=[('a','<i4'),('b','<i4')])\n",
      "    >>> x['a']\n",
      "    array([1, 3])\n",
      "    \n",
      "    Creating an array from sub-classes:\n",
      "    \n",
      "    >>> np.array(np.asmatrix('1 2; 3 4'))\n",
      "    array([[1, 2],\n",
      "           [3, 4]])\n",
      "    \n",
      "    >>> np.array(np.asmatrix('1 2; 3 4'), subok=True)\n",
      "    matrix([[1, 2],\n",
      "            [3, 4]])\n",
      "\n"
     ]
    }
   ],
   "source": [
    "help (np.array)"
   ]
  },
  {
   "cell_type": "code",
   "execution_count": 8,
   "id": "e9bde21f34ebd0d6",
   "metadata": {
    "ExecuteTime": {
     "end_time": "2024-09-17T06:09:58.527531Z",
     "start_time": "2024-09-17T06:09:58.524511Z"
    }
   },
   "outputs": [
    {
     "name": "stdout",
     "output_type": "stream",
     "text": [
      "%run `python -c \"import numpy; numpy.info(numpy.add)\"`\n"
     ]
    }
   ],
   "source": [
    "answer(5)"
   ]
  },
  {
   "cell_type": "markdown",
   "id": "e0c739c6",
   "metadata": {},
   "source": [
    "#### 6. Create a null vector of size 10 but the fifth value which is 1 (★☆☆)"
   ]
  },
  {
   "cell_type": "code",
   "execution_count": 9,
   "id": "bcceacf7",
   "metadata": {
    "ExecuteTime": {
     "end_time": "2024-09-17T06:09:58.636947Z",
     "start_time": "2024-09-17T06:09:58.634092Z"
    }
   },
   "outputs": [
    {
     "name": "stdout",
     "output_type": "stream",
     "text": [
      "[0. 0. 0. 0. 1. 0. 0. 0. 0. 0.]\n"
     ]
    }
   ],
   "source": [
    "Z = np.zeros(10)\n",
    "Z[4]=1\n",
    "print(Z)"
   ]
  },
  {
   "cell_type": "markdown",
   "id": "fbebedab",
   "metadata": {},
   "source": [
    "#### 7. Create a vector with values ranging from 10 to 49 (★☆☆)"
   ]
  },
  {
   "cell_type": "code",
   "execution_count": 10,
   "id": "3d117d54",
   "metadata": {
    "ExecuteTime": {
     "end_time": "2024-09-17T06:09:58.728893Z",
     "start_time": "2024-09-17T06:09:58.726739Z"
    }
   },
   "outputs": [],
   "source": [
    "Z = np.arange(10, 50)"
   ]
  },
  {
   "cell_type": "code",
   "execution_count": 11,
   "id": "6372c77f94a954c",
   "metadata": {
    "ExecuteTime": {
     "end_time": "2024-09-17T06:09:58.776308Z",
     "start_time": "2024-09-17T06:09:58.773977Z"
    }
   },
   "outputs": [
    {
     "name": "stdout",
     "output_type": "stream",
     "text": [
      "Z = np.arange(10,50)\n",
      "print(Z)\n"
     ]
    }
   ],
   "source": [
    "answer(7)"
   ]
  },
  {
   "cell_type": "markdown",
   "id": "ad0bff02",
   "metadata": {},
   "source": [
    "#### 8. Reverse a vector (first element becomes last) (★☆☆)"
   ]
  },
  {
   "cell_type": "code",
   "execution_count": 12,
   "id": "22d23470",
   "metadata": {
    "ExecuteTime": {
     "end_time": "2024-09-17T06:09:58.847500Z",
     "start_time": "2024-09-17T06:09:58.843238Z"
    }
   },
   "outputs": [
    {
     "data": {
      "text/plain": [
       "array([49, 45, 41, 37, 33, 29, 25, 21, 17, 13])"
      ]
     },
     "execution_count": 12,
     "metadata": {},
     "output_type": "execute_result"
    }
   ],
   "source": [
    "# reverse Z\n",
    "Z[40:0:-4]"
   ]
  },
  {
   "cell_type": "markdown",
   "id": "9f59d7e1",
   "metadata": {},
   "source": [
    "#### 9. Create a 3x3 matrix with values ranging from 0 to 8 (★☆☆)"
   ]
  },
  {
   "cell_type": "code",
   "execution_count": 13,
   "id": "7449e82d",
   "metadata": {
    "ExecuteTime": {
     "end_time": "2024-09-17T06:09:58.955269Z",
     "start_time": "2024-09-17T06:09:58.952638Z"
    }
   },
   "outputs": [
    {
     "name": "stdout",
     "output_type": "stream",
     "text": [
      "[[0 1 2]\n",
      " [3 4 5]\n",
      " [6 7 8]]\n",
      "Z = np.arange(9).reshape(3, 3)\n",
      "print(Z)\n"
     ]
    }
   ],
   "source": [
    "Z=np.arange(0,9)\n",
    "Z=Z.reshape(3,3)\n",
    "print(Z)\n",
    "answer(9)"
   ]
  },
  {
   "cell_type": "markdown",
   "id": "f374c4cf",
   "metadata": {},
   "source": [
    "#### 10. Find indices of non-zero elements from [1,2,0,0,4,0] (★☆☆)"
   ]
  },
  {
   "cell_type": "code",
   "execution_count": 14,
   "id": "1a84bed8",
   "metadata": {
    "ExecuteTime": {
     "end_time": "2024-09-17T06:09:59.047465Z",
     "start_time": "2024-09-17T06:09:59.044047Z"
    }
   },
   "outputs": [
    {
     "data": {
      "text/plain": [
       "(array([0, 1, 4]),)"
      ]
     },
     "execution_count": 14,
     "metadata": {},
     "output_type": "execute_result"
    }
   ],
   "source": [
    "Z = np.array([1,2,0,0,4,0])\n",
    "np.nonzero(Z)"
   ]
  },
  {
   "cell_type": "markdown",
   "id": "9c4707f5",
   "metadata": {},
   "source": [
    "#### 11. Create a 3x3 identity matrix (★☆☆)"
   ]
  },
  {
   "cell_type": "code",
   "execution_count": 15,
   "id": "29dc1fd3",
   "metadata": {
    "ExecuteTime": {
     "end_time": "2024-09-17T06:09:59.149785Z",
     "start_time": "2024-09-17T06:09:59.147161Z"
    }
   },
   "outputs": [
    {
     "name": "stdout",
     "output_type": "stream",
     "text": [
      "[[1. 0. 0.]\n",
      " [0. 1. 0.]\n",
      " [0. 0. 1.]]\n"
     ]
    }
   ],
   "source": [
    "Z = np.identity(3)\n",
    "print(Z)"
   ]
  },
  {
   "cell_type": "markdown",
   "id": "3bac294a",
   "metadata": {},
   "source": [
    "#### 12. Create a 3x3x3 array with random values (★☆☆)"
   ]
  },
  {
   "cell_type": "code",
   "execution_count": 16,
   "id": "eadfae67",
   "metadata": {
    "ExecuteTime": {
     "end_time": "2024-09-17T06:09:59.272116Z",
     "start_time": "2024-09-17T06:09:59.255397Z"
    }
   },
   "outputs": [
    {
     "name": "stdout",
     "output_type": "stream",
     "text": [
      "Z = np.random.random((3,3,3))\n",
      "print(Z)\n"
     ]
    }
   ],
   "source": [
    "np.random.random((3,3,3))\n",
    "answer(12)"
   ]
  },
  {
   "cell_type": "markdown",
   "id": "466c2989",
   "metadata": {},
   "source": [
    "#### 13. Create a 10x10 array with random values and find the minimum and maximum values (★☆☆)"
   ]
  },
  {
   "cell_type": "code",
   "execution_count": 17,
   "id": "9a74dbfc",
   "metadata": {
    "ExecuteTime": {
     "end_time": "2024-09-17T06:09:59.366667Z",
     "start_time": "2024-09-17T06:09:59.362482Z"
    }
   },
   "outputs": [
    {
     "name": "stdout",
     "output_type": "stream",
     "text": [
      "[[0.73745239 0.15628531 0.88528277 0.49298164 0.4654404  0.62293198\n",
      "  0.22090851 0.5287044  0.28024345 0.46109906]\n",
      " [0.35108448 0.70125146 0.68346669 0.88135951 0.81252247 0.16631221\n",
      "  0.3825876  0.01414382 0.41413815 0.36842991]\n",
      " [0.92350589 0.32016539 0.25904282 0.98040238 0.00306543 0.60945291\n",
      "  0.03777009 0.12774758 0.59949331 0.52424158]\n",
      " [0.68671605 0.9864162  0.3812757  0.42723111 0.0046362  0.2940145\n",
      "  0.83359323 0.05600439 0.24175673 0.88530878]\n",
      " [0.69141606 0.95532134 0.76544171 0.74432259 0.40884813 0.05491432\n",
      "  0.04585729 0.04020494 0.45558763 0.34185398]\n",
      " [0.64907398 0.83541012 0.90024534 0.41193644 0.99042649 0.27942711\n",
      "  0.37007069 0.64306844 0.57494171 0.0214637 ]\n",
      " [0.52485535 0.12837313 0.41307274 0.70726396 0.67710851 0.95582305\n",
      "  0.1089538  0.84800242 0.05977109 0.88349852]\n",
      " [0.38674504 0.37583109 0.06594247 0.06061901 0.98118626 0.68652034\n",
      "  0.282126   0.14387217 0.3411373  0.03829289]\n",
      " [0.74432487 0.28188481 0.4461395  0.34503604 0.97399015 0.28773518\n",
      "  0.7283866  0.6374814  0.89168095 0.85090105]\n",
      " [0.08270041 0.85417736 0.1363667  0.90243963 0.5433779  0.51714219\n",
      "  0.15492063 0.87795679 0.1412626  0.34993537]]\n",
      "0.9904264879284957\n",
      "0.0030654338152492633\n",
      "0.0030654338152492633\n"
     ]
    }
   ],
   "source": [
    "Z= np.random.random((10,10))\n",
    "print(Z)\n",
    "print(np.max(Z))\n",
    "print(Z.min())\n",
    "print(np.min(Z))\n",
    "# answer(13)"
   ]
  },
  {
   "cell_type": "markdown",
   "id": "53a8edb2",
   "metadata": {},
   "source": [
    "#### 14. Create a random vector of size 30 and find the mean value (★☆☆)"
   ]
  },
  {
   "cell_type": "code",
   "execution_count": 18,
   "id": "6691530b",
   "metadata": {
    "ExecuteTime": {
     "end_time": "2024-09-17T06:09:59.458628Z",
     "start_time": "2024-09-17T06:09:59.455658Z"
    }
   },
   "outputs": [
    {
     "name": "stdout",
     "output_type": "stream",
     "text": [
      "0.3826437529475149\n",
      "Z = np.random.random(30)\n",
      "m = Z.mean()\n",
      "print(m)\n"
     ]
    }
   ],
   "source": [
    "Z = np.random.random((30))\n",
    "print(Z.mean())\n",
    "answer(14)"
   ]
  },
  {
   "cell_type": "markdown",
   "id": "cbaad31c",
   "metadata": {},
   "source": [
    "#### 15. Create a 2d array with 1 on the border and 0 inside (★☆☆)"
   ]
  },
  {
   "cell_type": "code",
   "execution_count": 19,
   "id": "ad8308e3",
   "metadata": {
    "ExecuteTime": {
     "end_time": "2024-09-17T06:09:59.559826Z",
     "start_time": "2024-09-17T06:09:59.556704Z"
    }
   },
   "outputs": [
    {
     "name": "stdout",
     "output_type": "stream",
     "text": [
      "[[1. 1. 1. 1. 1. 1. 1. 1. 1. 1.]\n",
      " [1. 0. 0. 0. 0. 0. 0. 0. 0. 1.]\n",
      " [1. 0. 0. 0. 0. 0. 0. 0. 0. 1.]\n",
      " [1. 0. 0. 0. 0. 0. 0. 0. 0. 1.]\n",
      " [1. 0. 0. 0. 0. 0. 0. 0. 0. 1.]\n",
      " [1. 0. 0. 0. 0. 0. 0. 0. 0. 1.]\n",
      " [1. 0. 0. 0. 0. 0. 0. 0. 0. 1.]\n",
      " [1. 0. 0. 0. 0. 0. 0. 0. 0. 1.]\n",
      " [1. 0. 0. 0. 0. 0. 0. 0. 0. 1.]\n",
      " [1. 1. 1. 1. 1. 1. 1. 1. 1. 1.]]\n"
     ]
    }
   ],
   "source": [
    "Z = np.ones((10,10))\n",
    "Z[1:-1,1:-1] = 0\n",
    "print(Z)"
   ]
  },
  {
   "cell_type": "code",
   "execution_count": 20,
   "id": "c6f84f1d913576a8",
   "metadata": {
    "ExecuteTime": {
     "end_time": "2024-09-17T06:09:59.647192Z",
     "start_time": "2024-09-17T06:09:59.645013Z"
    }
   },
   "outputs": [
    {
     "name": "stdout",
     "output_type": "stream",
     "text": [
      "Z = np.ones((10,10))\n",
      "Z[1:-1,1:-1] = 0\n",
      "print(Z)\n"
     ]
    }
   ],
   "source": [
    "answer(15)"
   ]
  },
  {
   "cell_type": "markdown",
   "id": "c5ecc267",
   "metadata": {},
   "source": [
    "#### 16. How to add a border (filled with 0's) around an existing array? (★☆☆)"
   ]
  },
  {
   "cell_type": "code",
   "execution_count": 21,
   "id": "9d5c78c4",
   "metadata": {
    "ExecuteTime": {
     "end_time": "2024-09-17T06:09:59.741407Z",
     "start_time": "2024-09-17T06:09:59.737122Z"
    }
   },
   "outputs": [
    {
     "data": {
      "text/plain": [
       "array([[0.        , 0.        , 0.        , 0.        , 0.        ,\n",
       "        0.        , 0.        , 0.        , 0.        , 0.        ],\n",
       "       [0.        , 0.4309292 , 0.31902577, 0.20186768, 0.46038504,\n",
       "        0.32544808, 0.32270424, 0.6889426 , 0.89432637, 0.        ],\n",
       "       [0.        , 0.99340472, 0.49882219, 0.31998597, 0.84027782,\n",
       "        0.50895009, 0.15183665, 0.98352118, 0.57700714, 0.        ],\n",
       "       [0.        , 0.55414985, 0.73775005, 0.1416425 , 0.75359623,\n",
       "        0.67625971, 0.06454888, 0.23006824, 0.96854735, 0.        ],\n",
       "       [0.        , 0.76593382, 0.41482801, 0.7917299 , 0.0745203 ,\n",
       "        0.48240458, 0.23255725, 0.73922172, 0.63115514, 0.        ],\n",
       "       [0.        , 0.39576083, 0.66432861, 0.95814749, 0.41679055,\n",
       "        0.16357487, 0.89526911, 0.44378965, 0.26618737, 0.        ],\n",
       "       [0.        , 0.08343024, 0.47025483, 0.15773627, 0.69521765,\n",
       "        0.56432656, 0.69858396, 0.11790865, 0.44649302, 0.        ],\n",
       "       [0.        , 0.34113192, 0.18797479, 0.70898158, 0.90864809,\n",
       "        0.12069091, 0.86614111, 0.52772572, 0.53025737, 0.        ],\n",
       "       [0.        , 0.1734028 , 0.10681793, 0.8540276 , 0.99759158,\n",
       "        0.73335333, 0.37182459, 0.45803745, 0.96396636, 0.        ],\n",
       "       [0.        , 0.        , 0.        , 0.        , 0.        ,\n",
       "        0.        , 0.        , 0.        , 0.        , 0.        ]])"
      ]
     },
     "execution_count": 21,
     "metadata": {},
     "output_type": "execute_result"
    }
   ],
   "source": [
    "Z = np.random.random((10,10))\n",
    "Z[0,:] = 0\n",
    "Z[-1,:] = 0\n",
    "Z[:,0] = 0\n",
    "Z[:,-1] = 0\n",
    "Z"
   ]
  },
  {
   "cell_type": "code",
   "execution_count": 22,
   "id": "ff194bf241efd208",
   "metadata": {
    "ExecuteTime": {
     "end_time": "2024-09-17T06:10:00.046599Z",
     "start_time": "2024-09-17T06:10:00.044073Z"
    }
   },
   "outputs": [
    {
     "name": "stdout",
     "output_type": "stream",
     "text": [
      "Z = np.ones((5,5))\n",
      "Z = np.pad(Z, pad_width=1, mode='constant', constant_values=0)\n",
      "print(Z)\n",
      "\n",
      "# Using fancy indexing\n",
      "Z[:, [0, -1]] = 0\n",
      "Z[[0, -1], :] = 0\n",
      "print(Z)\n"
     ]
    }
   ],
   "source": [
    "answer(16)"
   ]
  },
  {
   "cell_type": "code",
   "execution_count": 23,
   "id": "dac9d9b8e535f8da",
   "metadata": {
    "ExecuteTime": {
     "end_time": "2024-09-17T06:10:00.113523Z",
     "start_time": "2024-09-17T06:10:00.110249Z"
    }
   },
   "outputs": [
    {
     "name": "stdout",
     "output_type": "stream",
     "text": [
      "[[0. 0. 0. 0. 0. 0. 0.]\n",
      " [0. 1. 1. 1. 1. 1. 0.]\n",
      " [0. 1. 1. 1. 1. 1. 0.]\n",
      " [0. 1. 1. 1. 1. 1. 0.]\n",
      " [0. 1. 1. 1. 1. 1. 0.]\n",
      " [0. 1. 1. 1. 1. 1. 0.]\n",
      " [0. 0. 0. 0. 0. 0. 0.]]\n"
     ]
    }
   ],
   "source": [
    "Z = np.ones((5,5))\n",
    "Z = np.pad(Z, pad_width=1, mode='constant', constant_values=0)\n",
    "print(Z)"
   ]
  },
  {
   "cell_type": "markdown",
   "id": "ef909b72",
   "metadata": {},
   "source": [
    "#### 17. What is the result of the following expression? (★☆☆)\n",
    "```python\n",
    "0 * np.nan\n",
    "np.nan == np.nan\n",
    "np.inf > np.nan\n",
    "np.nan - np.nan\n",
    "np.nan in set([np.nan])\n",
    "0.3 == 3 * 0.1\n",
    "```"
   ]
  },
  {
   "cell_type": "code",
   "execution_count": 24,
   "id": "3b4985f2",
   "metadata": {
    "ExecuteTime": {
     "end_time": "2024-09-17T06:10:00.384769Z",
     "start_time": "2024-09-17T06:10:00.382188Z"
    }
   },
   "outputs": [
    {
     "name": "stdout",
     "output_type": "stream",
     "text": [
      "print(0 * np.nan)\n",
      "print(np.nan == np.nan)\n",
      "print(np.inf > np.nan)\n",
      "print(np.nan - np.nan)\n",
      "print(np.nan in set([np.nan]))\n",
      "print(0.3 == 3 * 0.1)\n"
     ]
    }
   ],
   "source": [
    "answer(17)"
   ]
  },
  {
   "cell_type": "markdown",
   "id": "502738ac",
   "metadata": {},
   "source": [
    "#### 18. Create a 5x5 matrix with values 1,2,3,4 just below the diagonal (★☆☆)"
   ]
  },
  {
   "cell_type": "code",
   "execution_count": 25,
   "id": "faed6e2b",
   "metadata": {
    "ExecuteTime": {
     "end_time": "2024-09-17T06:10:00.924232Z",
     "start_time": "2024-09-17T06:10:00.920812Z"
    }
   },
   "outputs": [
    {
     "data": {
      "text/plain": [
       "array([[0., 0., 0., 0., 0.],\n",
       "       [1., 0., 0., 0., 0.],\n",
       "       [0., 2., 0., 0., 0.],\n",
       "       [0., 0., 0., 0., 0.],\n",
       "       [0., 0., 0., 0., 0.]])"
      ]
     },
     "execution_count": 25,
     "metadata": {},
     "output_type": "execute_result"
    }
   ],
   "source": [
    "Z=np.zeros((5,5))\n",
    "Z[1][0]=1\n",
    "Z[2][1]=2\n",
    "Z"
   ]
  },
  {
   "cell_type": "code",
   "execution_count": 26,
   "id": "376975cef4d68238",
   "metadata": {
    "ExecuteTime": {
     "end_time": "2024-09-17T06:10:01.093263Z",
     "start_time": "2024-09-17T06:10:01.089762Z"
    }
   },
   "outputs": [
    {
     "name": "stdout",
     "output_type": "stream",
     "text": [
      "[[0 0 0 0 0]\n",
      " [1 0 0 0 0]\n",
      " [0 2 0 0 0]\n",
      " [0 0 3 0 0]\n",
      " [0 0 0 4 0]]\n"
     ]
    }
   ],
   "source": [
    "Z = np.diag([1,2,3,4],k=-1)\n",
    "print(Z)"
   ]
  },
  {
   "cell_type": "markdown",
   "id": "a65da660",
   "metadata": {},
   "source": [
    "#### 19. Create a 8x8 matrix and fill it with a checkerboard pattern (★☆☆)"
   ]
  },
  {
   "cell_type": "code",
   "execution_count": 27,
   "id": "ed150400",
   "metadata": {
    "ExecuteTime": {
     "end_time": "2024-09-17T06:10:01.262869Z",
     "start_time": "2024-09-17T06:10:01.258787Z"
    }
   },
   "outputs": [
    {
     "data": {
      "text/plain": [
       "array([[1., 0., 1., 0., 1., 0., 1., 0.],\n",
       "       [0., 1., 0., 1., 0., 1., 0., 1.],\n",
       "       [1., 0., 1., 0., 1., 0., 1., 0.],\n",
       "       [0., 1., 0., 1., 0., 1., 0., 1.],\n",
       "       [1., 0., 1., 0., 1., 0., 1., 0.],\n",
       "       [0., 1., 0., 1., 0., 1., 0., 1.],\n",
       "       [1., 0., 1., 0., 1., 0., 1., 0.],\n",
       "       [0., 1., 0., 1., 0., 1., 0., 1.]])"
      ]
     },
     "execution_count": 27,
     "metadata": {},
     "output_type": "execute_result"
    }
   ],
   "source": [
    "Z = np.zeros((8,8))\n",
    "Z[::2,::2]=1\n",
    "Z[1:,1:][::2,::2]=1\n",
    "# Z[:1:2,::2]=0\n",
    "# Z[:,::2]=1\n",
    "Z"
   ]
  },
  {
   "cell_type": "code",
   "execution_count": 28,
   "id": "befca3d66e8ce072",
   "metadata": {
    "ExecuteTime": {
     "end_time": "2024-09-17T06:10:01.440837Z",
     "start_time": "2024-09-17T06:10:01.438843Z"
    }
   },
   "outputs": [
    {
     "name": "stdout",
     "output_type": "stream",
     "text": [
      "Z = np.zeros((8,8),dtype=int)\n",
      "Z[1::2,::2] = 1\n",
      "Z[::2,1::2] = 1\n",
      "print(Z)\n"
     ]
    }
   ],
   "source": [
    "answer(19)"
   ]
  },
  {
   "cell_type": "markdown",
   "id": "9f7f9c49",
   "metadata": {},
   "source": [
    "#### 20. Consider a (6,7,8) shape array, what is the index (x,y,z) of the 100th element? (★☆☆)"
   ]
  },
  {
   "cell_type": "code",
   "execution_count": 29,
   "id": "3782b5a9",
   "metadata": {
    "ExecuteTime": {
     "end_time": "2024-09-17T06:10:01.532035Z",
     "start_time": "2024-09-17T06:10:01.528776Z"
    }
   },
   "outputs": [
    {
     "data": {
      "text/plain": [
       "np.int64(100)"
      ]
     },
     "execution_count": 29,
     "metadata": {},
     "output_type": "execute_result"
    }
   ],
   "source": [
    "Z = np.arange(0,336).reshape((6,7,8))\n",
    "Z[1,5,4]"
   ]
  },
  {
   "cell_type": "code",
   "execution_count": 30,
   "id": "c619c524933252ee",
   "metadata": {
    "ExecuteTime": {
     "end_time": "2024-09-17T06:10:01.679845Z",
     "start_time": "2024-09-17T06:10:01.677112Z"
    }
   },
   "outputs": [
    {
     "name": "stdout",
     "output_type": "stream",
     "text": [
      "print(np.unravel_index(99,(6,7,8)))\n"
     ]
    }
   ],
   "source": [
    "answer(20)"
   ]
  },
  {
   "cell_type": "code",
   "execution_count": 31,
   "id": "44bd15281dc4b244",
   "metadata": {
    "ExecuteTime": {
     "end_time": "2024-09-17T06:10:01.882452Z",
     "start_time": "2024-09-17T06:10:01.880055Z"
    }
   },
   "outputs": [
    {
     "name": "stdout",
     "output_type": "stream",
     "text": [
      "(np.int64(1), np.int64(5), np.int64(3))\n"
     ]
    }
   ],
   "source": [
    "print(np.unravel_index(99,(6,7,8)))"
   ]
  },
  {
   "cell_type": "markdown",
   "id": "66bfda35",
   "metadata": {},
   "source": [
    "#### 21. Create a checkerboard 8x8 matrix using the tile function (★☆☆)"
   ]
  },
  {
   "cell_type": "code",
   "execution_count": 32,
   "id": "4c07477c",
   "metadata": {
    "ExecuteTime": {
     "end_time": "2024-09-17T06:10:01.974772Z",
     "start_time": "2024-09-17T06:10:01.971405Z"
    }
   },
   "outputs": [
    {
     "data": {
      "text/plain": [
       "array([[0, 1, 0, 1, 0, 1, 0, 1],\n",
       "       [1, 0, 1, 0, 1, 0, 1, 0],\n",
       "       [0, 1, 0, 1, 0, 1, 0, 1],\n",
       "       [1, 0, 1, 0, 1, 0, 1, 0],\n",
       "       [0, 1, 0, 1, 0, 1, 0, 1],\n",
       "       [1, 0, 1, 0, 1, 0, 1, 0],\n",
       "       [0, 1, 0, 1, 0, 1, 0, 1],\n",
       "       [1, 0, 1, 0, 1, 0, 1, 0]])"
      ]
     },
     "execution_count": 32,
     "metadata": {},
     "output_type": "execute_result"
    }
   ],
   "source": [
    "Z = np.tile(np.array(([0,1],[1,0])),(4,4))\n",
    "Z"
   ]
  },
  {
   "cell_type": "code",
   "execution_count": 33,
   "id": "9f5170a4f4685446",
   "metadata": {
    "ExecuteTime": {
     "end_time": "2024-09-17T06:10:02.077550Z",
     "start_time": "2024-09-17T06:10:02.075017Z"
    }
   },
   "outputs": [
    {
     "name": "stdout",
     "output_type": "stream",
     "text": [
      "Z = np.tile( np.array([[0,1],[1,0]]), (4,4))\n",
      "print(Z)\n"
     ]
    }
   ],
   "source": [
    "answer(21)"
   ]
  },
  {
   "cell_type": "markdown",
   "id": "d5bcfc08",
   "metadata": {},
   "source": [
    "#### 22. Normalize a 5x5 random matrix (★☆☆)"
   ]
  },
  {
   "cell_type": "code",
   "execution_count": 34,
   "id": "cea6c993",
   "metadata": {
    "ExecuteTime": {
     "end_time": "2024-09-17T06:10:02.160794Z",
     "start_time": "2024-09-17T06:10:02.156817Z"
    }
   },
   "outputs": [
    {
     "data": {
      "text/plain": [
       "array([[-0.8406198 , -1.24806601, -0.80065533, -1.2972474 , -0.89106541],\n",
       "       [-1.54370048, -1.63186238, -1.48734343, -1.29899657, -0.91291428],\n",
       "       [-1.2256324 , -0.8908723 , -1.39828336, -1.35491746, -1.41466095],\n",
       "       [-1.04098452, -1.57714873, -1.24564692, -0.82505413, -0.97148014],\n",
       "       [-1.60646182, -1.72547497, -1.68661341, -1.24175277, -0.97831629]])"
      ]
     },
     "execution_count": 34,
     "metadata": {},
     "output_type": "execute_result"
    }
   ],
   "source": [
    "Z=np.random.random((5,5))\n",
    "Z = Z-Z.mean()/Z.std()\n",
    "Z"
   ]
  },
  {
   "cell_type": "code",
   "execution_count": 35,
   "id": "2cb57c7da9249a5d",
   "metadata": {
    "ExecuteTime": {
     "end_time": "2024-09-17T06:10:02.326877Z",
     "start_time": "2024-09-17T06:10:02.322888Z"
    }
   },
   "outputs": [
    {
     "data": {
      "text/plain": [
       "array([[ 1.38989665e+00, -9.04768828e-03,  1.52711247e+00,\n",
       "        -1.77909281e-01,  1.21669442e+00],\n",
       "       [-1.02409250e+00, -1.32679157e+00, -8.30593635e-01,\n",
       "        -1.83914986e-01,  1.14167749e+00],\n",
       "       [ 6.79769094e-02,  1.21735743e+00, -5.24810738e-01,\n",
       "        -3.75916301e-01, -5.81042306e-01],\n",
       "       [ 7.01955307e-01, -1.13893524e+00, -7.41864401e-04,\n",
       "         1.44334053e+00,  9.40594806e-01],\n",
       "       [-1.23958014e+00, -1.64820531e+00, -1.51477624e+00,\n",
       "         1.26284949e-02,  9.17123284e-01]])"
      ]
     },
     "execution_count": 35,
     "metadata": {},
     "output_type": "execute_result"
    }
   ],
   "source": [
    "Z = (Z - np.mean (Z)) / (np.std (Z))\n",
    "Z"
   ]
  },
  {
   "cell_type": "code",
   "execution_count": 36,
   "id": "8258c9b046af5be7",
   "metadata": {
    "ExecuteTime": {
     "end_time": "2024-09-17T06:10:02.509494Z",
     "start_time": "2024-09-17T06:10:02.506260Z"
    }
   },
   "outputs": [
    {
     "name": "stdout",
     "output_type": "stream",
     "text": [
      "Z = np.random.random((5,5))\n",
      "Z = (Z - np.mean (Z)) / (np.std (Z))\n",
      "print(Z)\n"
     ]
    }
   ],
   "source": [
    "answer(22)"
   ]
  },
  {
   "cell_type": "markdown",
   "id": "f9a0911e",
   "metadata": {},
   "source": [
    "#### 23. Create a custom dtype that describes a color as four unsigned bytes (RGBA) (★☆☆)"
   ]
  },
  {
   "cell_type": "code",
   "execution_count": 37,
   "id": "d165044b",
   "metadata": {
    "ExecuteTime": {
     "end_time": "2024-09-17T06:10:02.676767Z",
     "start_time": "2024-09-17T06:10:02.674281Z"
    }
   },
   "outputs": [
    {
     "name": "stdout",
     "output_type": "stream",
     "text": [
      "color = np.dtype([(\"r\", np.ubyte),\n",
      "                  (\"g\", np.ubyte),\n",
      "                  (\"b\", np.ubyte),\n",
      "                  (\"a\", np.ubyte)])\n"
     ]
    }
   ],
   "source": [
    "answer(23)"
   ]
  },
  {
   "cell_type": "code",
   "execution_count": 38,
   "id": "4b9ef9b1188b91a0",
   "metadata": {
    "ExecuteTime": {
     "end_time": "2024-09-17T06:10:02.955368Z",
     "start_time": "2024-09-17T06:10:02.951635Z"
    }
   },
   "outputs": [
    {
     "data": {
      "text/plain": [
       "dtype([('R', 'u1'), ('G', 'u1'), ('B', 'u1'), ('A', 'u1')])"
      ]
     },
     "execution_count": 38,
     "metadata": {},
     "output_type": "execute_result"
    }
   ],
   "source": [
    "np.dtype({'names':['R','G', 'B', 'A'], 'formats':[np.ubyte,np.ubyte,np.ubyte,np.ubyte]})"
   ]
  },
  {
   "cell_type": "markdown",
   "id": "654805b1",
   "metadata": {},
   "source": [
    "#### 24. Multiply a 5x3 matrix by a 3x2 matrix (real matrix product) (★☆☆)"
   ]
  },
  {
   "cell_type": "code",
   "execution_count": 39,
   "id": "6a42619f",
   "metadata": {
    "ExecuteTime": {
     "end_time": "2024-09-17T06:10:03.072045Z",
     "start_time": "2024-09-17T06:10:03.067520Z"
    }
   },
   "outputs": [
    {
     "data": {
      "text/plain": [
       "array([[ 10,  13],\n",
       "       [ 28,  40],\n",
       "       [ 46,  67],\n",
       "       [ 64,  94],\n",
       "       [ 82, 121]])"
      ]
     },
     "execution_count": 39,
     "metadata": {},
     "output_type": "execute_result"
    }
   ],
   "source": [
    "A= np.arange(15).reshape((5,3))\n",
    "B= np.arange(6).reshape((3,2))\n",
    "np.dot(A,B)\n",
    "A.dot(B)\n"
   ]
  },
  {
   "cell_type": "code",
   "execution_count": 40,
   "id": "a06aeb4fa162a0f8",
   "metadata": {
    "ExecuteTime": {
     "end_time": "2024-09-17T06:10:03.154824Z",
     "start_time": "2024-09-17T06:10:03.152837Z"
    }
   },
   "outputs": [
    {
     "name": "stdout",
     "output_type": "stream",
     "text": [
      "Z = np.dot(np.ones((5,3)), np.ones((3,2)))\n",
      "print(Z)\n",
      "\n",
      "# Alternative solution, in Python 3.5 and above\n",
      "Z = np.ones((5,3)) @ np.ones((3,2))\n",
      "print(Z)\n"
     ]
    }
   ],
   "source": [
    "answer(24)"
   ]
  },
  {
   "cell_type": "markdown",
   "id": "994c25df",
   "metadata": {},
   "source": [
    "#### 25. Given a 1D array, negate all elements which are between 3 and 8, in place. (★☆☆)"
   ]
  },
  {
   "cell_type": "code",
   "execution_count": 41,
   "id": "e4b39c03",
   "metadata": {
    "ExecuteTime": {
     "end_time": "2024-09-17T06:10:03.221017Z",
     "start_time": "2024-09-17T06:10:03.217319Z"
    }
   },
   "outputs": [
    {
     "data": {
      "text/plain": [
       "array([ 0,  1,  2, -3, -4, -5, -6, -7,  8,  9])"
      ]
     },
     "execution_count": 41,
     "metadata": {},
     "output_type": "execute_result"
    }
   ],
   "source": [
    "Z = np.arange(10)\n",
    "Z[3:8]=-1*Z[3:8]\n",
    "Z"
   ]
  },
  {
   "cell_type": "code",
   "execution_count": 42,
   "id": "883addc5daf92f9a",
   "metadata": {
    "ExecuteTime": {
     "end_time": "2024-09-17T06:10:03.396733Z",
     "start_time": "2024-09-17T06:10:03.394445Z"
    }
   },
   "outputs": [
    {
     "name": "stdout",
     "output_type": "stream",
     "text": [
      "# Author: Evgeni Burovski\n",
      "\n",
      "Z = np.arange(11)\n",
      "Z[(3 < Z) & (Z < 8)] *= -1\n",
      "print(Z)\n"
     ]
    }
   ],
   "source": [
    "answer(25)"
   ]
  },
  {
   "cell_type": "markdown",
   "id": "b7d15d1a",
   "metadata": {},
   "source": [
    "#### 26. What is the output of the following script? (★☆☆)\n",
    "```python\n",
    "# Author: Jake VanderPlas\n",
    "\n",
    "print(sum(range(5),-1))\n",
    "from numpy import *\n",
    "print(sum(range(5),-1))\n",
    "```"
   ]
  },
  {
   "cell_type": "code",
   "execution_count": 43,
   "id": "e96b427a2683f060",
   "metadata": {
    "ExecuteTime": {
     "end_time": "2024-09-17T06:10:03.486816Z",
     "start_time": "2024-09-17T06:10:03.476716Z"
    }
   },
   "outputs": [],
   "source": [
    "%load_ext autoreload\n",
    "%autoreload 2"
   ]
  },
  {
   "cell_type": "code",
   "execution_count": 44,
   "id": "43043e455be3a362",
   "metadata": {
    "ExecuteTime": {
     "end_time": "2024-09-17T06:10:03.534841Z",
     "start_time": "2024-09-17T06:10:03.526561Z"
    }
   },
   "outputs": [
    {
     "name": "stdout",
     "output_type": "stream",
     "text": [
      "0\n",
      "1\n",
      "2\n",
      "3\n",
      "4\n"
     ]
    },
    {
     "data": {
      "text/plain": [
       "np.int64(10)"
      ]
     },
     "execution_count": 44,
     "metadata": {},
     "output_type": "execute_result"
    }
   ],
   "source": [
    "r = range(5)\n",
    "for i in r:\n",
    "    print(i)\n",
    "    \n",
    "np.sum(r)    "
   ]
  },
  {
   "cell_type": "markdown",
   "id": "789aa195217895e0",
   "metadata": {},
   "source": [
    "r = range(5)\n",
    "\n"
   ]
  },
  {
   "cell_type": "code",
   "execution_count": 45,
   "id": "4c95bc3f",
   "metadata": {
    "ExecuteTime": {
     "end_time": "2024-09-17T06:10:03.693572Z",
     "start_time": "2024-09-17T06:10:03.682999Z"
    }
   },
   "outputs": [
    {
     "name": "stdout",
     "output_type": "stream",
     "text": [
      "9\n",
      "10\n"
     ]
    }
   ],
   "source": [
    "\n",
    "print(sum(range(5), -1))\n",
    "\n",
    "print(np.sum(range(5), -1))\n"
   ]
  },
  {
   "cell_type": "markdown",
   "id": "a34f0d08",
   "metadata": {},
   "source": [
    "#### 27. Consider an integer vector Z, which of these expressions are legal? (★☆☆)\n",
    "```python\n",
    "Z**Z\n",
    "2 << Z >> 2\n",
    "Z <- Z\n",
    "1j*Z\n",
    "Z/1/1\n",
    "Z<Z>Z\n",
    "```"
   ]
  },
  {
   "cell_type": "code",
   "execution_count": null,
   "id": "5bb994a53e4b736f",
   "metadata": {
    "ExecuteTime": {
     "end_time": "2024-09-17T06:10:03.799125Z",
     "start_time": "2024-09-17T06:10:03.797142Z"
    }
   },
   "outputs": [],
   "source": []
  },
  {
   "cell_type": "code",
   "execution_count": 46,
   "id": "564658fc",
   "metadata": {
    "ExecuteTime": {
     "end_time": "2024-09-17T06:10:03.858716Z",
     "start_time": "2024-09-17T06:10:03.850384Z"
    }
   },
   "outputs": [],
   "source": [
    "Z = np.array([1,2,3])\n",
    "# Z**Z\n",
    "# (2 << Z) >> 2\n",
    "# Z <- Z\n",
    "# 1j*Z\n",
    "# Z/1/1\n",
    "# Z<Z>Z\n"
   ]
  },
  {
   "cell_type": "markdown",
   "id": "c34e94bf",
   "metadata": {},
   "source": [
    "#### 28. What are the result of the following expressions? (★☆☆)\n",
    "```python\n",
    "np.array(0) / np.array(0)\n",
    "np.array(0) // np.array(0)\n",
    "np.array([np.nan]).astype(int).astype(float)\n",
    "```"
   ]
  },
  {
   "cell_type": "code",
   "execution_count": 47,
   "id": "56663562",
   "metadata": {
    "ExecuteTime": {
     "end_time": "2024-09-17T06:10:03.917187Z",
     "start_time": "2024-09-17T06:10:03.909025Z"
    }
   },
   "outputs": [
    {
     "name": "stderr",
     "output_type": "stream",
     "text": [
      "/tmp/ipykernel_15629/4032259419.py:3: RuntimeWarning: invalid value encountered in cast\n",
      "  np.array([np.nan]).astype(int).astype(float)\n"
     ]
    },
    {
     "data": {
      "text/plain": [
       "array([-9.22337204e+18])"
      ]
     },
     "execution_count": 47,
     "metadata": {},
     "output_type": "execute_result"
    }
   ],
   "source": [
    "# np.array(0) / np.array(0)\n",
    "# np.array(0) // np.array(0)\n",
    "np.array([np.nan]).astype(int).astype(float)"
   ]
  },
  {
   "cell_type": "markdown",
   "id": "546f5e7b",
   "metadata": {},
   "source": [
    "#### 29. How to round away from zero a float array ? (★☆☆)"
   ]
  },
  {
   "cell_type": "code",
   "execution_count": 48,
   "id": "f725a6d2",
   "metadata": {
    "ExecuteTime": {
     "end_time": "2024-09-17T06:10:04.016263Z",
     "start_time": "2024-09-17T06:10:04.007948Z"
    }
   },
   "outputs": [
    {
     "name": "stdout",
     "output_type": "stream",
     "text": [
      "[-5.9030042  -1.18918293 -6.48613098  2.89514048  2.14573725 -9.76765512\n",
      " -1.86524463 -8.99469782 -2.98264129  1.39580424]\n",
      "[ -6.  -2.  -7.   3.   3. -10.  -2.  -9.  -3.   2.]\n"
     ]
    }
   ],
   "source": [
    "Z = np.random.uniform(-10,+10,10)\n",
    "print(Z)\n",
    "print(np.copysign(np.ceil(np.abs(Z)), Z))"
   ]
  },
  {
   "cell_type": "markdown",
   "id": "eadca856",
   "metadata": {},
   "source": [
    "#### 30. How to find common values between two arrays? (★☆☆)"
   ]
  },
  {
   "cell_type": "code",
   "execution_count": 49,
   "id": "e0270b5b",
   "metadata": {
    "ExecuteTime": {
     "end_time": "2024-09-17T06:10:04.086733Z",
     "start_time": "2024-09-17T06:10:04.085127Z"
    }
   },
   "outputs": [
    {
     "data": {
      "text/plain": [
       "array([2, 3, 4, 5])"
      ]
     },
     "execution_count": 49,
     "metadata": {},
     "output_type": "execute_result"
    }
   ],
   "source": [
    "A = np.array([1,2,3,4,5])\n",
    "B = np.array([5,4,3,2,7])\n",
    "C = np.intersect1d(A,B)\n",
    "C\n"
   ]
  },
  {
   "cell_type": "code",
   "execution_count": 50,
   "id": "123ac294",
   "metadata": {},
   "outputs": [
    {
     "name": "stdout",
     "output_type": "stream",
     "text": [
      "Z1 = np.random.randint(0,10,10)\n",
      "Z2 = np.random.randint(0,10,10)\n",
      "print(np.intersect1d(Z1,Z2))\n"
     ]
    }
   ],
   "source": [
    "answer(30)"
   ]
  },
  {
   "cell_type": "markdown",
   "id": "ca16ca22",
   "metadata": {},
   "source": [
    "#### 31. How to ignore all numpy warnings (not recommended)? (★☆☆)"
   ]
  },
  {
   "cell_type": "code",
   "execution_count": 51,
   "id": "7d7208ef",
   "metadata": {
    "ExecuteTime": {
     "end_time": "2024-09-17T06:10:04.136139Z",
     "start_time": "2024-09-17T06:10:04.134568Z"
    }
   },
   "outputs": [
    {
     "name": "stdout",
     "output_type": "stream",
     "text": [
      "# Suicide mode on\n",
      "defaults = np.seterr(all=\"ignore\")\n",
      "Z = np.ones(1) / 0\n",
      "\n",
      "# Back to sanity\n",
      "_ = np.seterr(**defaults)\n",
      "\n",
      "# Equivalently with a context manager\n",
      "with np.errstate(all=\"ignore\"):\n",
      "    np.arange(3) / 0\n"
     ]
    }
   ],
   "source": [
    "answer(31)"
   ]
  },
  {
   "cell_type": "markdown",
   "id": "c7871d0d",
   "metadata": {},
   "source": [
    "#### 32. Is the following expressions true? (★☆☆)\n",
    "```python\n",
    "np.sqrt(-1) == np.emath.sqrt(-1)\n",
    "```"
   ]
  },
  {
   "cell_type": "code",
   "execution_count": 52,
   "id": "acc3701a",
   "metadata": {
    "ExecuteTime": {
     "end_time": "2024-09-17T06:10:04.179939Z",
     "start_time": "2024-09-17T06:10:04.178188Z"
    }
   },
   "outputs": [
    {
     "data": {
      "text/plain": [
       "np.complex128(1j)"
      ]
     },
     "execution_count": 52,
     "metadata": {},
     "output_type": "execute_result"
    }
   ],
   "source": [
    "np.emath.sqrt(-1)\n"
   ]
  },
  {
   "cell_type": "markdown",
   "id": "e0433e30",
   "metadata": {},
   "source": [
    "#### 33. How to get the dates of yesterday, today and tomorrow? (★☆☆)"
   ]
  },
  {
   "cell_type": "code",
   "execution_count": 53,
   "id": "9c4d2152",
   "metadata": {
    "ExecuteTime": {
     "end_time": "2024-09-17T06:10:04.227603Z",
     "start_time": "2024-09-17T06:10:04.225632Z"
    }
   },
   "outputs": [
    {
     "name": "stdout",
     "output_type": "stream",
     "text": [
      "2024-09-16\n"
     ]
    }
   ],
   "source": [
    "yesterday = np.datetime64('today') - np.timedelta64(1)\n",
    "today     = np.datetime64('today')\n",
    "tomorrow  = np.datetime64('today') + np.timedelta64(1)\n",
    "print(yesterday)\n"
   ]
  },
  {
   "cell_type": "markdown",
   "id": "9f52a2ef",
   "metadata": {},
   "source": [
    "#### 34. How to get all the dates corresponding to the month of July 2016? (★★☆)"
   ]
  },
  {
   "cell_type": "code",
   "execution_count": 54,
   "id": "d6c34dec",
   "metadata": {
    "ExecuteTime": {
     "end_time": "2024-09-17T06:10:04.275201Z",
     "start_time": "2024-09-17T06:10:04.273420Z"
    }
   },
   "outputs": [
    {
     "name": "stdout",
     "output_type": "stream",
     "text": [
      "['2016-07-01' '2016-07-02' '2016-07-03' '2016-07-04' '2016-07-05'\n",
      " '2016-07-06' '2016-07-07' '2016-07-08' '2016-07-09' '2016-07-10'\n",
      " '2016-07-11' '2016-07-12' '2016-07-13' '2016-07-14' '2016-07-15'\n",
      " '2016-07-16' '2016-07-17' '2016-07-18' '2016-07-19' '2016-07-20'\n",
      " '2016-07-21' '2016-07-22' '2016-07-23' '2016-07-24' '2016-07-25'\n",
      " '2016-07-26' '2016-07-27' '2016-07-28' '2016-07-29' '2016-07-30'\n",
      " '2016-07-31']\n"
     ]
    }
   ],
   "source": [
    "Z = np.arange('2016-07', '2016-08', dtype='datetime64[D]')\n",
    "print(Z)\n"
   ]
  },
  {
   "cell_type": "markdown",
   "id": "4a64e059",
   "metadata": {},
   "source": [
    "#### 35. How to compute ((A+B)*(-A/2)) in place (without copy)? (★★☆)"
   ]
  },
  {
   "cell_type": "code",
   "execution_count": 55,
   "id": "49267f60",
   "metadata": {
    "ExecuteTime": {
     "end_time": "2024-09-17T06:10:04.322970Z",
     "start_time": "2024-09-17T06:10:04.321277Z"
    }
   },
   "outputs": [
    {
     "data": {
      "text/plain": [
       "array([[  -0. ,   -5.5,  -13. ],\n",
       "       [ -22.5,  -34. ,  -47.5],\n",
       "       [ -63. ,  -80.5, -100. ]])"
      ]
     },
     "execution_count": 55,
     "metadata": {},
     "output_type": "execute_result"
    }
   ],
   "source": [
    "A = np.arange(0.,9).reshape(3,3)\n",
    "B = np.arange(9.,18).reshape(3,3)\n",
    "#np.multiply(np.add(A,B), np.negative(np.divide(A,2)))\n",
    "np.add(A,B,out=B)\n",
    "np.divide(A,2,out=A)\n",
    "np.negative(A,out=A)\n",
    "np.multiply(A,B,out=A)\n",
    "A\n"
   ]
  },
  {
   "cell_type": "code",
   "execution_count": 56,
   "id": "0e1e97a7",
   "metadata": {},
   "outputs": [
    {
     "name": "stdout",
     "output_type": "stream",
     "text": [
      "A = np.ones(3)*1\n",
      "B = np.ones(3)*2\n",
      "np.add(A,B,out=B)\n",
      "np.divide(A,2,out=A)\n",
      "np.negative(A,out=A)\n",
      "np.multiply(A,B,out=A)\n"
     ]
    }
   ],
   "source": [
    "answer(35)"
   ]
  },
  {
   "cell_type": "markdown",
   "id": "8a98c2a8",
   "metadata": {},
   "source": [
    "#### 36. Extract the integer part of a random array of positive numbers using 4 different methods (★★☆)"
   ]
  },
  {
   "cell_type": "code",
   "execution_count": 60,
   "id": "368130b3",
   "metadata": {
    "ExecuteTime": {
     "end_time": "2024-09-17T06:10:04.371222Z",
     "start_time": "2024-09-17T06:10:04.369461Z"
    }
   },
   "outputs": [
    {
     "name": "stdout",
     "output_type": "stream",
     "text": [
      "[[9.3115657  1.82427233 3.89367506 6.21765357 6.37172559]]\n",
      "[[9. 1. 3. 6. 6.]]\n",
      "[[9. 1. 3. 6. 6.]]\n",
      "[[9 1 3 6 6]]\n",
      "[[9. 1. 3. 6. 6.]]\n"
     ]
    }
   ],
   "source": [
    "Z = np.random.random((1,5))\n",
    "Z=Z*10\n",
    "print(Z)\n",
    "print(np.floor(Z))\n",
    "print(np.trunc(Z))\n",
    "print(np.astype(Z, int))\n",
    "print(Z-Z%1)\n"
   ]
  },
  {
   "cell_type": "code",
   "execution_count": 58,
   "id": "b895f0b9",
   "metadata": {},
   "outputs": [
    {
     "name": "stdout",
     "output_type": "stream",
     "text": [
      "Z = np.random.uniform(0,10,10)\n",
      "\n",
      "print(Z - Z%1)\n",
      "print(Z // 1)\n",
      "print(np.floor(Z))\n",
      "print(Z.astype(int))\n",
      "print(np.trunc(Z))\n"
     ]
    }
   ],
   "source": [
    "answer(36)"
   ]
  },
  {
   "cell_type": "markdown",
   "id": "5a2e3d85",
   "metadata": {},
   "source": [
    "#### 37. Create a 5x5 matrix with row values ranging from 0 to 4 (★★☆)"
   ]
  },
  {
   "cell_type": "code",
   "execution_count": null,
   "id": "1d974e8f",
   "metadata": {
    "ExecuteTime": {
     "end_time": "2024-09-17T06:10:04.423766Z",
     "start_time": "2024-09-17T06:10:04.421984Z"
    }
   },
   "outputs": [],
   "source": []
  },
  {
   "cell_type": "markdown",
   "id": "9720e2d5",
   "metadata": {},
   "source": [
    "#### 38. Consider a generator function that generates 10 integers and use it to build an array (★☆☆)"
   ]
  },
  {
   "cell_type": "code",
   "execution_count": null,
   "id": "e5dd8fc9",
   "metadata": {
    "ExecuteTime": {
     "end_time": "2024-09-17T06:10:04.476899Z",
     "start_time": "2024-09-17T06:10:04.475128Z"
    }
   },
   "outputs": [],
   "source": []
  },
  {
   "cell_type": "markdown",
   "id": "c6f2c912",
   "metadata": {},
   "source": [
    "#### 39. Create a vector of size 10 with values ranging from 0 to 1, both excluded (★★☆)"
   ]
  },
  {
   "cell_type": "code",
   "execution_count": null,
   "id": "6aaa27d3",
   "metadata": {
    "ExecuteTime": {
     "end_time": "2024-09-17T06:10:04.529351Z",
     "start_time": "2024-09-17T06:10:04.527313Z"
    }
   },
   "outputs": [],
   "source": []
  },
  {
   "cell_type": "markdown",
   "id": "a36d6ee4",
   "metadata": {},
   "source": [
    "#### 40. Create a random vector of size 10 and sort it (★★☆)"
   ]
  },
  {
   "cell_type": "code",
   "execution_count": null,
   "id": "e589d216",
   "metadata": {
    "ExecuteTime": {
     "end_time": "2024-09-17T06:10:04.604837Z",
     "start_time": "2024-09-17T06:10:04.602953Z"
    }
   },
   "outputs": [],
   "source": []
  },
  {
   "cell_type": "markdown",
   "id": "0fb4ad68",
   "metadata": {},
   "source": [
    "#### 41. How to sum a small array faster than np.sum? (★★☆)"
   ]
  },
  {
   "cell_type": "code",
   "execution_count": null,
   "id": "a1ba05a0",
   "metadata": {
    "ExecuteTime": {
     "end_time": "2024-09-17T06:10:04.652834Z",
     "start_time": "2024-09-17T06:10:04.650555Z"
    }
   },
   "outputs": [],
   "source": []
  },
  {
   "cell_type": "markdown",
   "id": "024ac365",
   "metadata": {},
   "source": [
    "#### 42. Consider two random array A and B, check if they are equal (★★☆)"
   ]
  },
  {
   "cell_type": "code",
   "execution_count": null,
   "id": "7db3846d",
   "metadata": {
    "ExecuteTime": {
     "end_time": "2024-09-17T06:10:04.720854Z",
     "start_time": "2024-09-17T06:10:04.718230Z"
    }
   },
   "outputs": [],
   "source": []
  },
  {
   "cell_type": "markdown",
   "id": "c68d2401",
   "metadata": {},
   "source": [
    "#### 43. Make an array immutable (read-only) (★★☆)"
   ]
  },
  {
   "cell_type": "code",
   "execution_count": null,
   "id": "7828539d",
   "metadata": {
    "ExecuteTime": {
     "end_time": "2024-09-17T06:10:04.781891Z",
     "start_time": "2024-09-17T06:10:04.779888Z"
    }
   },
   "outputs": [],
   "source": []
  },
  {
   "cell_type": "markdown",
   "id": "55df6280",
   "metadata": {},
   "source": [
    "#### 44. Consider a random 10x2 matrix representing cartesian coordinates, convert them to polar coordinates (★★☆)"
   ]
  },
  {
   "cell_type": "code",
   "execution_count": null,
   "id": "f1c86ea0",
   "metadata": {
    "ExecuteTime": {
     "end_time": "2024-09-17T06:10:04.830791Z",
     "start_time": "2024-09-17T06:10:04.829116Z"
    }
   },
   "outputs": [],
   "source": []
  },
  {
   "cell_type": "markdown",
   "id": "2f60f1ec",
   "metadata": {},
   "source": [
    "#### 45. Create random vector of size 10 and replace the maximum value by 0 (★★☆)"
   ]
  },
  {
   "cell_type": "code",
   "execution_count": null,
   "id": "d9f48f1c",
   "metadata": {
    "ExecuteTime": {
     "end_time": "2024-09-17T06:10:04.880007Z",
     "start_time": "2024-09-17T06:10:04.878075Z"
    }
   },
   "outputs": [],
   "source": []
  },
  {
   "cell_type": "markdown",
   "id": "084e8ad4",
   "metadata": {},
   "source": [
    "#### 46. Create a structured array with `x` and `y` coordinates covering the [0,1]x[0,1] area (★★☆)"
   ]
  },
  {
   "cell_type": "code",
   "execution_count": null,
   "id": "58b47c13",
   "metadata": {
    "ExecuteTime": {
     "end_time": "2024-09-17T06:10:04.927827Z",
     "start_time": "2024-09-17T06:10:04.925867Z"
    }
   },
   "outputs": [],
   "source": []
  },
  {
   "cell_type": "markdown",
   "id": "d7b9bc42",
   "metadata": {},
   "source": [
    "#### 47. Given two arrays, X and Y, construct the Cauchy matrix C (Cij =1/(xi - yj)) (★★☆)"
   ]
  },
  {
   "cell_type": "code",
   "execution_count": null,
   "id": "a24824fb",
   "metadata": {
    "ExecuteTime": {
     "end_time": "2024-09-17T06:10:04.975652Z",
     "start_time": "2024-09-17T06:10:04.973659Z"
    }
   },
   "outputs": [],
   "source": []
  },
  {
   "cell_type": "markdown",
   "id": "65ebc11b",
   "metadata": {},
   "source": [
    "#### 48. Print the minimum and maximum representable value for each numpy scalar type (★★☆)"
   ]
  },
  {
   "cell_type": "code",
   "execution_count": null,
   "id": "e45d38fb",
   "metadata": {
    "ExecuteTime": {
     "end_time": "2024-09-17T06:10:05.023381Z",
     "start_time": "2024-09-17T06:10:05.021526Z"
    }
   },
   "outputs": [],
   "source": []
  },
  {
   "cell_type": "markdown",
   "id": "9b317a98",
   "metadata": {},
   "source": [
    "#### 49. How to print all the values of an array? (★★☆)"
   ]
  },
  {
   "cell_type": "code",
   "execution_count": null,
   "id": "309cdeb9",
   "metadata": {
    "ExecuteTime": {
     "end_time": "2024-09-17T06:10:05.071602Z",
     "start_time": "2024-09-17T06:10:05.069506Z"
    }
   },
   "outputs": [],
   "source": []
  },
  {
   "cell_type": "markdown",
   "id": "b580f9d0",
   "metadata": {},
   "source": [
    "#### 50. How to find the closest value (to a given scalar) in a vector? (★★☆)"
   ]
  },
  {
   "cell_type": "code",
   "execution_count": null,
   "id": "ebfb6714",
   "metadata": {
    "ExecuteTime": {
     "end_time": "2024-09-17T06:10:05.119445Z",
     "start_time": "2024-09-17T06:10:05.117595Z"
    }
   },
   "outputs": [],
   "source": []
  },
  {
   "cell_type": "markdown",
   "id": "602e6252",
   "metadata": {},
   "source": [
    "#### 51. Create a structured array representing a position (x,y) and a color (r,g,b) (★★☆)"
   ]
  },
  {
   "cell_type": "code",
   "execution_count": null,
   "id": "cf002b3a",
   "metadata": {
    "ExecuteTime": {
     "end_time": "2024-09-17T06:10:05.171244Z",
     "start_time": "2024-09-17T06:10:05.169467Z"
    }
   },
   "outputs": [],
   "source": []
  },
  {
   "cell_type": "markdown",
   "id": "78bcd92f",
   "metadata": {},
   "source": [
    "#### 52. Consider a random vector with shape (100,2) representing coordinates, find point by point distances (★★☆)"
   ]
  },
  {
   "cell_type": "code",
   "execution_count": null,
   "id": "fea7f9a6",
   "metadata": {
    "ExecuteTime": {
     "end_time": "2024-09-17T06:10:05.219951Z",
     "start_time": "2024-09-17T06:10:05.217942Z"
    }
   },
   "outputs": [],
   "source": []
  },
  {
   "cell_type": "markdown",
   "id": "343c5a85",
   "metadata": {},
   "source": [
    "#### 53. How to convert a float (32 bits) array into an integer (32 bits) in place?"
   ]
  },
  {
   "cell_type": "code",
   "execution_count": null,
   "id": "fc1b687b",
   "metadata": {
    "ExecuteTime": {
     "end_time": "2024-09-17T06:10:05.269025Z",
     "start_time": "2024-09-17T06:10:05.267248Z"
    }
   },
   "outputs": [],
   "source": []
  },
  {
   "cell_type": "markdown",
   "id": "a69e1ace",
   "metadata": {},
   "source": [
    "#### 54. How to read the following file? (★★☆)\n",
    "```\n",
    "1, 2, 3, 4, 5\n",
    "6,  ,  , 7, 8\n",
    " ,  , 9,10,11\n",
    "```"
   ]
  },
  {
   "cell_type": "code",
   "execution_count": null,
   "id": "1c7957d4",
   "metadata": {
    "ExecuteTime": {
     "end_time": "2024-09-17T06:10:05.320404Z",
     "start_time": "2024-09-17T06:10:05.318274Z"
    }
   },
   "outputs": [],
   "source": []
  },
  {
   "cell_type": "markdown",
   "id": "c23bd80d",
   "metadata": {},
   "source": [
    "#### 55. What is the equivalent of enumerate for numpy arrays? (★★☆)"
   ]
  },
  {
   "cell_type": "code",
   "execution_count": null,
   "id": "d95d9578",
   "metadata": {
    "ExecuteTime": {
     "end_time": "2024-09-17T06:10:05.378860Z",
     "start_time": "2024-09-17T06:10:05.377005Z"
    }
   },
   "outputs": [],
   "source": []
  },
  {
   "cell_type": "markdown",
   "id": "2153a5ec",
   "metadata": {},
   "source": [
    "#### 56. Generate a generic 2D Gaussian-like array (★★☆)"
   ]
  },
  {
   "cell_type": "code",
   "execution_count": null,
   "id": "61122d1e",
   "metadata": {
    "ExecuteTime": {
     "end_time": "2024-09-17T06:10:05.428031Z",
     "start_time": "2024-09-17T06:10:05.426208Z"
    }
   },
   "outputs": [],
   "source": []
  },
  {
   "cell_type": "markdown",
   "id": "2e76d589",
   "metadata": {},
   "source": [
    "#### 57. How to randomly place p elements in a 2D array? (★★☆)"
   ]
  },
  {
   "cell_type": "code",
   "execution_count": null,
   "id": "0c2e4fcc",
   "metadata": {
    "ExecuteTime": {
     "end_time": "2024-09-17T06:10:05.478281Z",
     "start_time": "2024-09-17T06:10:05.475873Z"
    }
   },
   "outputs": [],
   "source": []
  },
  {
   "cell_type": "markdown",
   "id": "8b3933eb",
   "metadata": {},
   "source": [
    "#### 58. Subtract the mean of each row of a matrix (★★☆)"
   ]
  },
  {
   "cell_type": "code",
   "execution_count": null,
   "id": "a306c9ef",
   "metadata": {
    "ExecuteTime": {
     "end_time": "2024-09-17T06:10:05.531694Z",
     "start_time": "2024-09-17T06:10:05.529695Z"
    }
   },
   "outputs": [],
   "source": []
  },
  {
   "cell_type": "markdown",
   "id": "ea8807c0",
   "metadata": {},
   "source": [
    "#### 59. How to sort an array by the nth column? (★★☆)"
   ]
  },
  {
   "cell_type": "code",
   "execution_count": null,
   "id": "cc89a699",
   "metadata": {
    "ExecuteTime": {
     "end_time": "2024-09-17T06:10:05.580377Z",
     "start_time": "2024-09-17T06:10:05.578322Z"
    }
   },
   "outputs": [],
   "source": []
  },
  {
   "cell_type": "markdown",
   "id": "00fa00a1",
   "metadata": {},
   "source": [
    "#### 60. How to tell if a given 2D array has null columns? (★★☆)"
   ]
  },
  {
   "cell_type": "code",
   "execution_count": null,
   "id": "3436e165",
   "metadata": {
    "ExecuteTime": {
     "end_time": "2024-09-17T06:10:05.631130Z",
     "start_time": "2024-09-17T06:10:05.629211Z"
    }
   },
   "outputs": [],
   "source": []
  },
  {
   "cell_type": "markdown",
   "id": "5a65c7a2",
   "metadata": {},
   "source": [
    "#### 61. Find the nearest value from a given value in an array (★★☆)"
   ]
  },
  {
   "cell_type": "code",
   "execution_count": null,
   "id": "73f149d6",
   "metadata": {
    "ExecuteTime": {
     "end_time": "2024-09-17T06:10:05.688244Z",
     "start_time": "2024-09-17T06:10:05.686361Z"
    }
   },
   "outputs": [],
   "source": []
  },
  {
   "cell_type": "markdown",
   "id": "dd83e8af",
   "metadata": {},
   "source": [
    "#### 62. Considering two arrays with shape (1,3) and (3,1), how to compute their sum using an iterator? (★★☆)"
   ]
  },
  {
   "cell_type": "code",
   "execution_count": null,
   "id": "29a709a1",
   "metadata": {
    "ExecuteTime": {
     "end_time": "2024-09-17T06:10:05.739725Z",
     "start_time": "2024-09-17T06:10:05.737713Z"
    }
   },
   "outputs": [],
   "source": []
  },
  {
   "cell_type": "markdown",
   "id": "6c042efa",
   "metadata": {},
   "source": [
    "#### 63. Create an array class that has a name attribute (★★☆)"
   ]
  },
  {
   "cell_type": "code",
   "execution_count": null,
   "id": "45b3d2e0",
   "metadata": {
    "ExecuteTime": {
     "end_time": "2024-09-17T06:10:05.787979Z",
     "start_time": "2024-09-17T06:10:05.786017Z"
    }
   },
   "outputs": [],
   "source": []
  },
  {
   "cell_type": "markdown",
   "id": "0a075c3d",
   "metadata": {},
   "source": [
    "#### 64. Consider a given vector, how to add 1 to each element indexed by a second vector (be careful with repeated indices)? (★★★)"
   ]
  },
  {
   "cell_type": "code",
   "execution_count": null,
   "id": "36c50470",
   "metadata": {
    "ExecuteTime": {
     "end_time": "2024-09-17T06:10:05.835755Z",
     "start_time": "2024-09-17T06:10:05.833683Z"
    }
   },
   "outputs": [],
   "source": []
  },
  {
   "cell_type": "markdown",
   "id": "0fb2f0c5",
   "metadata": {},
   "source": [
    "#### 65. How to accumulate elements of a vector (X) to an array (F) based on an index list (I)? (★★★)"
   ]
  },
  {
   "cell_type": "code",
   "execution_count": null,
   "id": "58aa5f82",
   "metadata": {
    "ExecuteTime": {
     "end_time": "2024-09-17T06:10:05.884298Z",
     "start_time": "2024-09-17T06:10:05.881682Z"
    }
   },
   "outputs": [],
   "source": []
  },
  {
   "cell_type": "markdown",
   "id": "d89dc506",
   "metadata": {},
   "source": [
    "#### 66. Considering a (w,h,3) image of (dtype=ubyte), compute the number of unique colors (★★☆)"
   ]
  },
  {
   "cell_type": "code",
   "execution_count": null,
   "id": "8fb43a49",
   "metadata": {
    "ExecuteTime": {
     "end_time": "2024-09-17T06:10:05.931809Z",
     "start_time": "2024-09-17T06:10:05.929823Z"
    }
   },
   "outputs": [],
   "source": []
  },
  {
   "cell_type": "markdown",
   "id": "535a5d81",
   "metadata": {},
   "source": [
    "#### 67. Considering a four dimensions array, how to get sum over the last two axis at once? (★★★)"
   ]
  },
  {
   "cell_type": "code",
   "execution_count": null,
   "id": "f954ab9d",
   "metadata": {
    "ExecuteTime": {
     "end_time": "2024-09-17T06:10:05.985215Z",
     "start_time": "2024-09-17T06:10:05.983161Z"
    }
   },
   "outputs": [],
   "source": []
  },
  {
   "cell_type": "markdown",
   "id": "eee66d3c",
   "metadata": {},
   "source": [
    "#### 68. Considering a one-dimensional vector D, how to compute means of subsets of D using a vector S of same size describing subset  indices? (★★★)"
   ]
  },
  {
   "cell_type": "code",
   "execution_count": null,
   "id": "8929773a",
   "metadata": {
    "ExecuteTime": {
     "end_time": "2024-09-17T06:10:06.031984Z",
     "start_time": "2024-09-17T06:10:06.029872Z"
    }
   },
   "outputs": [],
   "source": []
  },
  {
   "cell_type": "markdown",
   "id": "f90d4c40",
   "metadata": {},
   "source": [
    "#### 69. How to get the diagonal of a dot product? (★★★)"
   ]
  },
  {
   "cell_type": "code",
   "execution_count": null,
   "id": "b47d392d",
   "metadata": {
    "ExecuteTime": {
     "end_time": "2024-09-17T06:10:06.079616Z",
     "start_time": "2024-09-17T06:10:06.077666Z"
    }
   },
   "outputs": [],
   "source": []
  },
  {
   "cell_type": "markdown",
   "id": "a8a97e7d",
   "metadata": {},
   "source": [
    "#### 70. Consider the vector [1, 2, 3, 4, 5], how to build a new vector with 3 consecutive zeros interleaved between each value? (★★★)"
   ]
  },
  {
   "cell_type": "code",
   "execution_count": null,
   "id": "ee6c6c37",
   "metadata": {
    "ExecuteTime": {
     "end_time": "2024-09-17T06:10:06.127070Z",
     "start_time": "2024-09-17T06:10:06.125488Z"
    }
   },
   "outputs": [],
   "source": []
  },
  {
   "cell_type": "markdown",
   "id": "d6a30d60",
   "metadata": {},
   "source": [
    "#### 71. Consider an array of dimension (5,5,3), how to mulitply it by an array with dimensions (5,5)? (★★★)"
   ]
  },
  {
   "cell_type": "code",
   "execution_count": null,
   "id": "e9703f2e",
   "metadata": {
    "ExecuteTime": {
     "end_time": "2024-09-17T06:10:06.177891Z",
     "start_time": "2024-09-17T06:10:06.175796Z"
    }
   },
   "outputs": [],
   "source": []
  },
  {
   "cell_type": "markdown",
   "id": "bac359a9",
   "metadata": {},
   "source": [
    "#### 72. How to swap two rows of an array? (★★★)"
   ]
  },
  {
   "cell_type": "code",
   "execution_count": null,
   "id": "f1b432b1",
   "metadata": {
    "ExecuteTime": {
     "end_time": "2024-09-17T06:10:06.224850Z",
     "start_time": "2024-09-17T06:10:06.222995Z"
    }
   },
   "outputs": [],
   "source": []
  },
  {
   "cell_type": "markdown",
   "id": "620c9f83",
   "metadata": {},
   "source": [
    "#### 73. Consider a set of 10 triplets describing 10 triangles (with shared vertices), find the set of unique line segments composing all the  triangles (★★★)"
   ]
  },
  {
   "cell_type": "code",
   "execution_count": null,
   "id": "4e595ffc",
   "metadata": {
    "ExecuteTime": {
     "end_time": "2024-09-17T06:10:06.271273Z",
     "start_time": "2024-09-17T06:10:06.269513Z"
    }
   },
   "outputs": [],
   "source": []
  },
  {
   "cell_type": "markdown",
   "id": "a76c55a2",
   "metadata": {},
   "source": [
    "#### 74. Given a sorted array C that corresponds to a bincount, how to produce an array A such that np.bincount(A) == C? (★★★)"
   ]
  },
  {
   "cell_type": "code",
   "execution_count": null,
   "id": "2d2ae65a",
   "metadata": {
    "ExecuteTime": {
     "end_time": "2024-09-17T06:10:06.319030Z",
     "start_time": "2024-09-17T06:10:06.317350Z"
    }
   },
   "outputs": [],
   "source": []
  },
  {
   "cell_type": "markdown",
   "id": "d550c8e2",
   "metadata": {},
   "source": [
    "#### 75. How to compute averages using a sliding window over an array? (★★★)"
   ]
  },
  {
   "cell_type": "code",
   "execution_count": null,
   "id": "841c457c",
   "metadata": {
    "ExecuteTime": {
     "end_time": "2024-09-17T06:10:06.367850Z",
     "start_time": "2024-09-17T06:10:06.365994Z"
    }
   },
   "outputs": [],
   "source": []
  },
  {
   "cell_type": "markdown",
   "id": "6b170b00",
   "metadata": {},
   "source": [
    "#### 76. Consider a one-dimensional array Z, build a two-dimensional array whose first row is (Z[0],Z[1],Z[2]) and each subsequent row is  shifted by 1 (last row should be (Z[-3],Z[-2],Z[-1]) (★★★)"
   ]
  },
  {
   "cell_type": "code",
   "execution_count": null,
   "id": "d9a0cf4e",
   "metadata": {
    "ExecuteTime": {
     "end_time": "2024-09-17T06:10:06.415175Z",
     "start_time": "2024-09-17T06:10:06.413357Z"
    }
   },
   "outputs": [],
   "source": []
  },
  {
   "cell_type": "markdown",
   "id": "e94a5c1d",
   "metadata": {},
   "source": [
    "#### 77. How to negate a boolean, or to change the sign of a float inplace? (★★★)"
   ]
  },
  {
   "cell_type": "code",
   "execution_count": null,
   "id": "c0f9504f",
   "metadata": {
    "ExecuteTime": {
     "end_time": "2024-09-17T06:10:06.463031Z",
     "start_time": "2024-09-17T06:10:06.461310Z"
    }
   },
   "outputs": [],
   "source": []
  },
  {
   "cell_type": "markdown",
   "id": "4eb8b5c1",
   "metadata": {},
   "source": [
    "#### 78. Consider 2 sets of points P0,P1 describing lines (2d) and a point p, how to compute distance from p to each line i (P0[i],P1[i])? (★★★)"
   ]
  },
  {
   "cell_type": "code",
   "execution_count": null,
   "id": "487f47ec",
   "metadata": {
    "ExecuteTime": {
     "end_time": "2024-09-17T06:10:06.512099Z",
     "start_time": "2024-09-17T06:10:06.509965Z"
    }
   },
   "outputs": [],
   "source": []
  },
  {
   "cell_type": "markdown",
   "id": "3df99948",
   "metadata": {},
   "source": [
    "#### 79. Consider 2 sets of points P0,P1 describing lines (2d) and a set of points P, how to compute distance from each point j (P[j]) to each line i (P0[i],P1[i])? (★★★)"
   ]
  },
  {
   "cell_type": "code",
   "execution_count": null,
   "id": "dc2df37b",
   "metadata": {
    "ExecuteTime": {
     "end_time": "2024-09-17T06:10:06.559180Z",
     "start_time": "2024-09-17T06:10:06.557472Z"
    }
   },
   "outputs": [],
   "source": []
  },
  {
   "cell_type": "markdown",
   "id": "11e972c2",
   "metadata": {},
   "source": [
    "#### 80. Consider an arbitrary array, write a function that extract a subpart with a fixed shape and centered on a given element (pad with a `fill` value when necessary) (★★★)"
   ]
  },
  {
   "cell_type": "code",
   "execution_count": null,
   "id": "0291247f",
   "metadata": {
    "ExecuteTime": {
     "end_time": "2024-09-17T06:10:06.607350Z",
     "start_time": "2024-09-17T06:10:06.605434Z"
    }
   },
   "outputs": [],
   "source": []
  },
  {
   "cell_type": "markdown",
   "id": "93cfeab3",
   "metadata": {},
   "source": [
    "#### 81. Consider an array Z = [1,2,3,4,5,6,7,8,9,10,11,12,13,14], how to generate an array R = [[1,2,3,4], [2,3,4,5], [3,4,5,6], ..., [11,12,13,14]]? (★★★)"
   ]
  },
  {
   "cell_type": "code",
   "execution_count": null,
   "id": "360de791",
   "metadata": {
    "ExecuteTime": {
     "end_time": "2024-09-17T06:10:06.660954Z",
     "start_time": "2024-09-17T06:10:06.659077Z"
    }
   },
   "outputs": [],
   "source": []
  },
  {
   "cell_type": "markdown",
   "id": "4c15ceff",
   "metadata": {},
   "source": [
    "#### 82. Compute a matrix rank (★★★)"
   ]
  },
  {
   "cell_type": "code",
   "execution_count": null,
   "id": "9a4272d2",
   "metadata": {
    "ExecuteTime": {
     "end_time": "2024-09-17T06:10:06.707061Z",
     "start_time": "2024-09-17T06:10:06.705362Z"
    }
   },
   "outputs": [],
   "source": []
  },
  {
   "cell_type": "markdown",
   "id": "1171cb84",
   "metadata": {},
   "source": [
    "#### 83. How to find the most frequent value in an array?"
   ]
  },
  {
   "cell_type": "code",
   "execution_count": null,
   "id": "33e951c8",
   "metadata": {
    "ExecuteTime": {
     "end_time": "2024-09-17T06:10:06.758015Z",
     "start_time": "2024-09-17T06:10:06.756333Z"
    }
   },
   "outputs": [],
   "source": []
  },
  {
   "cell_type": "markdown",
   "id": "04f472aa",
   "metadata": {},
   "source": [
    "#### 84. Extract all the contiguous 3x3 blocks from a random 10x10 matrix (★★★)"
   ]
  },
  {
   "cell_type": "code",
   "execution_count": null,
   "id": "7aade14a",
   "metadata": {
    "ExecuteTime": {
     "end_time": "2024-09-17T06:10:06.807126Z",
     "start_time": "2024-09-17T06:10:06.805303Z"
    }
   },
   "outputs": [],
   "source": []
  },
  {
   "cell_type": "markdown",
   "id": "52836346",
   "metadata": {},
   "source": [
    "#### 85. Create a 2D array subclass such that Z[i,j] == Z[j,i] (★★★)"
   ]
  },
  {
   "cell_type": "code",
   "execution_count": null,
   "id": "4df70318",
   "metadata": {
    "ExecuteTime": {
     "end_time": "2024-09-17T06:10:06.858585Z",
     "start_time": "2024-09-17T06:10:06.856372Z"
    }
   },
   "outputs": [],
   "source": []
  },
  {
   "cell_type": "markdown",
   "id": "78c43ee5",
   "metadata": {},
   "source": [
    "#### 86. Consider a set of p matrices with shape (n,n) and a set of p vectors with shape (n,1). How to compute the sum of of the p matrix products at once? (result has shape (n,1)) (★★★)"
   ]
  },
  {
   "cell_type": "code",
   "execution_count": null,
   "id": "32fd2c3b",
   "metadata": {
    "ExecuteTime": {
     "end_time": "2024-09-17T06:10:06.908264Z",
     "start_time": "2024-09-17T06:10:06.905897Z"
    }
   },
   "outputs": [],
   "source": []
  },
  {
   "cell_type": "markdown",
   "id": "158f9945",
   "metadata": {},
   "source": [
    "#### 87. Consider a 16x16 array, how to get the block-sum (block size is 4x4)? (★★★)"
   ]
  },
  {
   "cell_type": "code",
   "execution_count": null,
   "id": "5a9b808f",
   "metadata": {
    "ExecuteTime": {
     "end_time": "2024-09-17T06:10:06.955114Z",
     "start_time": "2024-09-17T06:10:06.953289Z"
    }
   },
   "outputs": [],
   "source": []
  },
  {
   "cell_type": "markdown",
   "id": "2e0ad860",
   "metadata": {},
   "source": [
    "#### 88. How to implement the Game of Life using numpy arrays? (★★★)"
   ]
  },
  {
   "cell_type": "code",
   "execution_count": null,
   "id": "574acff5",
   "metadata": {
    "ExecuteTime": {
     "end_time": "2024-09-17T06:10:07.008645Z",
     "start_time": "2024-09-17T06:10:07.007087Z"
    }
   },
   "outputs": [],
   "source": []
  },
  {
   "cell_type": "markdown",
   "id": "69a892fa",
   "metadata": {},
   "source": [
    "#### 89. How to get the n largest values of an array (★★★)"
   ]
  },
  {
   "cell_type": "code",
   "execution_count": null,
   "id": "21b2bd48",
   "metadata": {
    "ExecuteTime": {
     "end_time": "2024-09-17T06:10:07.051806Z",
     "start_time": "2024-09-17T06:10:07.049935Z"
    }
   },
   "outputs": [],
   "source": []
  },
  {
   "cell_type": "markdown",
   "id": "b55ccacc",
   "metadata": {},
   "source": [
    "#### 90. Given an arbitrary number of vectors, build the cartesian product (every combinations of every item) (★★★)"
   ]
  },
  {
   "cell_type": "code",
   "execution_count": null,
   "id": "4b645da4",
   "metadata": {
    "ExecuteTime": {
     "end_time": "2024-09-17T06:10:07.099377Z",
     "start_time": "2024-09-17T06:10:07.097359Z"
    }
   },
   "outputs": [],
   "source": []
  },
  {
   "cell_type": "markdown",
   "id": "89187a23",
   "metadata": {},
   "source": [
    "#### 91. How to create a record array from a regular array? (★★★)"
   ]
  },
  {
   "cell_type": "code",
   "execution_count": null,
   "id": "da94c71a",
   "metadata": {
    "ExecuteTime": {
     "end_time": "2024-09-17T06:10:07.148165Z",
     "start_time": "2024-09-17T06:10:07.145630Z"
    }
   },
   "outputs": [],
   "source": []
  },
  {
   "cell_type": "markdown",
   "id": "aa70d4ca",
   "metadata": {},
   "source": [
    "#### 92. Consider a large vector Z, compute Z to the power of 3 using 3 different methods (★★★)"
   ]
  },
  {
   "cell_type": "code",
   "execution_count": null,
   "id": "7cff1bf5",
   "metadata": {
    "ExecuteTime": {
     "end_time": "2024-09-17T06:10:07.196685Z",
     "start_time": "2024-09-17T06:10:07.194458Z"
    }
   },
   "outputs": [],
   "source": []
  },
  {
   "cell_type": "markdown",
   "id": "5f79dd00",
   "metadata": {},
   "source": [
    "#### 93. Consider two arrays A and B of shape (8,3) and (2,2). How to find rows of A that contain elements of each row of B regardless of the order of the elements in B? (★★★)"
   ]
  },
  {
   "cell_type": "code",
   "execution_count": null,
   "id": "20c105b2",
   "metadata": {
    "ExecuteTime": {
     "end_time": "2024-09-17T06:10:07.244226Z",
     "start_time": "2024-09-17T06:10:07.242039Z"
    }
   },
   "outputs": [],
   "source": []
  },
  {
   "cell_type": "markdown",
   "id": "a80570cd",
   "metadata": {},
   "source": [
    "#### 94. Considering a 10x3 matrix, extract rows with unequal values (e.g. [2,2,3]) (★★★)"
   ]
  },
  {
   "cell_type": "code",
   "execution_count": null,
   "id": "84db8de1",
   "metadata": {
    "ExecuteTime": {
     "end_time": "2024-09-17T06:10:07.292059Z",
     "start_time": "2024-09-17T06:10:07.289785Z"
    }
   },
   "outputs": [],
   "source": []
  },
  {
   "cell_type": "markdown",
   "id": "ba154f43",
   "metadata": {},
   "source": [
    "#### 95. Convert a vector of ints into a matrix binary representation (★★★)"
   ]
  },
  {
   "cell_type": "code",
   "execution_count": null,
   "id": "cfa96e1b",
   "metadata": {
    "ExecuteTime": {
     "end_time": "2024-09-17T06:10:07.339170Z",
     "start_time": "2024-09-17T06:10:07.337407Z"
    }
   },
   "outputs": [],
   "source": []
  },
  {
   "cell_type": "markdown",
   "id": "420e2343",
   "metadata": {},
   "source": [
    "#### 96. Given a two dimensional array, how to extract unique rows? (★★★)"
   ]
  },
  {
   "cell_type": "code",
   "execution_count": null,
   "id": "4680dfd0",
   "metadata": {
    "ExecuteTime": {
     "end_time": "2024-09-17T06:10:07.391347Z",
     "start_time": "2024-09-17T06:10:07.389383Z"
    }
   },
   "outputs": [],
   "source": []
  },
  {
   "cell_type": "markdown",
   "id": "89fef2f3",
   "metadata": {},
   "source": [
    "#### 97. Considering 2 vectors A & B, write the einsum equivalent of inner, outer, sum, and mul function (★★★)"
   ]
  },
  {
   "cell_type": "code",
   "execution_count": null,
   "id": "bb9c14b2",
   "metadata": {
    "ExecuteTime": {
     "end_time": "2024-09-17T06:10:07.439355Z",
     "start_time": "2024-09-17T06:10:07.437457Z"
    }
   },
   "outputs": [],
   "source": []
  },
  {
   "cell_type": "markdown",
   "id": "7ad5cc5f",
   "metadata": {},
   "source": [
    "#### 98. Considering a path described by two vectors (X,Y), how to sample it using equidistant samples (★★★)?"
   ]
  },
  {
   "cell_type": "code",
   "execution_count": null,
   "id": "0899d1d5",
   "metadata": {
    "ExecuteTime": {
     "end_time": "2024-09-17T06:10:07.487464Z",
     "start_time": "2024-09-17T06:10:07.485556Z"
    }
   },
   "outputs": [],
   "source": []
  },
  {
   "cell_type": "markdown",
   "id": "2b69272e",
   "metadata": {},
   "source": [
    "#### 99. Given an integer n and a 2D array X, select from X the rows which can be interpreted as draws from a multinomial distribution with n degrees, i.e., the rows which only contain integers and which sum to n. (★★★)"
   ]
  },
  {
   "cell_type": "code",
   "execution_count": null,
   "id": "55c8b034",
   "metadata": {
    "ExecuteTime": {
     "end_time": "2024-09-17T06:10:07.535082Z",
     "start_time": "2024-09-17T06:10:07.533318Z"
    }
   },
   "outputs": [],
   "source": []
  },
  {
   "cell_type": "markdown",
   "id": "59ab5516",
   "metadata": {},
   "source": [
    "#### 100. Compute bootstrapped 95% confidence intervals for the mean of a 1D array X (i.e., resample the elements of an array with replacement N times, compute the mean of each sample, and then compute percentiles over the means). (★★★)"
   ]
  },
  {
   "cell_type": "code",
   "execution_count": null,
   "id": "450877d8",
   "metadata": {
    "ExecuteTime": {
     "end_time": "2024-09-17T06:10:07.583168Z",
     "start_time": "2024-09-17T06:10:07.581433Z"
    }
   },
   "outputs": [],
   "source": []
  }
 ],
 "metadata": {
  "kernelspec": {
   "display_name": "Python 3 (ipykernel)",
   "language": "python",
   "name": "python3"
  },
  "language_info": {
   "codemirror_mode": {
    "name": "ipython",
    "version": 3
   },
   "file_extension": ".py",
   "mimetype": "text/x-python",
   "name": "python",
   "nbconvert_exporter": "python",
   "pygments_lexer": "ipython3",
   "version": "3.11.2"
  }
 },
 "nbformat": 4,
 "nbformat_minor": 5
}
